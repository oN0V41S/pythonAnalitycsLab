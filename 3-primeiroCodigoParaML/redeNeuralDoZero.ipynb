{
  "nbformat": 4,
  "nbformat_minor": 0,
  "metadata": {
    "colab": {
      "provenance": []
    },
    "kernelspec": {
      "name": "python3",
      "display_name": "Python 3"
    },
    "language_info": {
      "name": "python"
    }
  },
  "cells": [
    {
      "cell_type": "markdown",
      "source": [
        "# Importando bibliotecas"
      ],
      "metadata": {
        "id": "iDE1_mjapfPs"
      }
    },
    {
      "cell_type": "code",
      "execution_count": 22,
      "metadata": {
        "id": "Iduip_gOmWAt"
      },
      "outputs": [],
      "source": [
        "# biblioteca para computação científica\n",
        "import numpy as np\n",
        "# biblioteca para aprendizado de máquina\n",
        "import torch\n",
        "import torch.nn.functional as F\n",
        "import torchvision\n",
        "import matplotlib.pyplot as plt\n",
        "from time import time\n",
        "from torchvision import datasets, transforms\n",
        "from torch import nn, optim"
      ]
    },
    {
      "cell_type": "markdown",
      "source": [
        "# Consumindo Dataset e transoformando-os em Tensor para visualização."
      ],
      "metadata": {
        "id": "ef7gEvTNpmQE"
      }
    },
    {
      "cell_type": "code",
      "source": [
        "transform = transforms.ToTensor() # Definindo a conversão de imagns para tensor\n",
        "\n",
        "trainset = datasets.MNIST('./MNIST_data', download=True, train=True, transform=transform) # Carrega a parte do treino do dataset\n",
        "trainloader = torch.utils.data.DataLoader(trainset, batch_size=64, shuffle=True) # Cria um buffer para pegar os dados por partes\n",
        "\n",
        "valset = datasets.MNIST('./MNIST_data/', download=True, train=False, transform=transform) # Carregar a parte de validação\n",
        "valloader = torch.utils.data.DataLoader(valset, batch_size=64, shuffle=True) # Cria um buffer para pegar os dados"
      ],
      "metadata": {
        "id": "YafPzS15n0Ff"
      },
      "execution_count": 26,
      "outputs": []
    },
    {
      "cell_type": "markdown",
      "source": [
        "# Carregando conjuntos de Tensor de imagens"
      ],
      "metadata": {
        "id": "uR25odvruJZD"
      }
    },
    {
      "cell_type": "code",
      "source": [
        "# Carrega uma imagem derivada do treinamento\n",
        "dataiter = iter(trainloader)\n",
        "# Chamando conjunto de imagens plotando a imagem\n",
        "imagens, etiquetas = dataiter.__next__()\n",
        "# Exibindo Visualização\n",
        "plt.imshow(imagens[0].numpy().squeeze(), cmap='gray_r');"
      ],
      "metadata": {
        "colab": {
          "base_uri": "https://localhost:8080/",
          "height": 430
        },
        "id": "JgsbBfukr6D9",
        "outputId": "e2720a13-9603-471f-c0fd-a9e536b92802"
      },
      "execution_count": 34,
      "outputs": [
        {
          "output_type": "display_data",
          "data": {
            "text/plain": [
              "<Figure size 640x480 with 1 Axes>"
            ],
            "image/png": "[encoded data removed]"
          },
          "metadata": {}
        }
      ]
    },
    {
      "cell_type": "markdown",
      "source": [
        "# Conferindo tamanho do Tensor que repesenta a imagem"
      ],
      "metadata": {
        "id": "Lns6pXXsuBmk"
      }
    },
    {
      "cell_type": "code",
      "source": [
        "print(imagens[0].shape) # Para eriicar as dimensões do tensor de cada imagem\n",
        "print(etiquetas[0].shape) # Para verificar as dimensões do tensor de cada etiqueta"
      ],
      "metadata": {
        "colab": {
          "base_uri": "https://localhost:8080/"
        },
        "id": "X-_Ba_dEs7h2",
        "outputId": "7003fb9b-516b-48e9-a5ab-81dbc36092cf"
      },
      "execution_count": 35,
      "outputs": [
        {
          "output_type": "stream",
          "name": "stdout",
          "text": [
            "torch.Size([1, 28, 28])\n",
            "torch.Size([])\n"
          ]
        }
      ]
    },
    {
      "cell_type": "markdown",
      "source": [
        "# Código alternativo para carregar dataset do MNIST e visualizar imagens"
      ],
      "metadata": {
        "id": "aan2Nit8pOxO"
      }
    },
    {
      "cell_type": "code",
      "source": [
        "import torch\n",
        "from torchvision import datasets, transforms\n",
        "\n",
        "# Carregar o conjunto de dados MNIST\n",
        "train_data = datasets.MNIST(\n",
        "    root='./data',\n",
        "    train=True,\n",
        "    download=True,\n",
        "    transform=transforms.Compose([\n",
        "        transforms.ToTensor(),\n",
        "        transforms.Normalize((0.1307,), (0.3081,))\n",
        "    ])\n",
        ")\n",
        "\n",
        "# Definir o tamanho do lote\n",
        "batch_size = 64\n",
        "\n",
        "# Criar um carregador de dados\n",
        "train_loader = torch.utils.data.DataLoader(\n",
        "    train_data,\n",
        "    batch_size=batch_size,\n",
        "    shuffle=True\n",
        ")\n",
        "\n",
        "# Visualizar as imagens\n",
        "for images, labels in train_loader:\n",
        "    print(images.shape)\n",
        "    plt.imshow(images[0].permute(1, 2, 0))\n",
        "    plt.show()\n",
        "    break\n"
      ],
      "metadata": {
        "colab": {
          "base_uri": "https://localhost:8080/",
          "height": 447
        },
        "id": "Z8Bm2jNlo_Hd",
        "outputId": "6170c542-39ea-4f9a-8e37-e3984b0da54f"
      },
      "execution_count": 7,
      "outputs": [
        {
          "output_type": "stream",
          "name": "stdout",
          "text": [
            "torch.Size([64, 1, 28, 28])\n"
          ]
        },
        {
          "output_type": "display_data",
          "data": {
            "text/plain": [
              "<Figure size 640x480 with 1 Axes>"
            ],
            "image/png": "[encoded data removed]"
          },
          "metadata": {}
        }
      ]
    },
    {
      "cell_type": "markdown",
      "source": [
        "# Criando estrutura de Rede Neural a partir de um modelo\n",
        "### Modelo [Keira Xception](https://keras.io/api/applications/xception/)"
      ],
      "metadata": {
        "id": "u0zjmoYPuk9P"
      }
    },
    {
      "cell_type": "code",
      "source": [
        "class Modelo(nn.Module):\n",
        "    def __init__(self):\n",
        "      super(Modelo, self). __init__()\n",
        "      self.linear1 = nn.Linear(28*28, 229) # Camada de entrada, 784 neurônios que se ligam a 128\n",
        "      self.linear2 = nn.Linear(128, 64)  # Camada interna,1, 128 neurônios que se ligam a 64\n",
        "      self.linear3 = nn.Linear(64, 10)  # Camada interna,3, 128 neurônios que se ligam a 64\n",
        "      # Para a acamada de saída não é necessário definir nada pois ó spreciamos peegar o output da camada interna 2\n",
        "\n",
        "    def dorwar(self,x):\n",
        "      x = F.relu(self.linear1(X)) # função de ativação de camada de entrada para a camada interna 1\n",
        "      x = F.relu(self.linear2(X)) # função de ativação de camada interna 1 para a camada interna 2\n",
        "      x = self.linear(self.linear2(X)) # função de ativação de camada interna 2 para a camada de saída, nesse caso f(x) = x\n",
        "      return F.log_softmax(x, dim=1) # dados utilizados para calcular a perda"
      ],
      "metadata": {
        "id": "-mZrux_pvOuF"
      },
      "execution_count": 47,
      "outputs": []
    },
    {
      "cell_type": "markdown",
      "source": [
        "# Definindo Treino da Rede Neural"
      ],
      "metadata": {
        "id": "O5heD5ptzzqh"
      }
    },
    {
      "cell_type": "code",
      "source": [
        "def treino(modelo, trainloader, device):\n",
        "  otimizador = optim.SGD(modelo.parameters(),lr=0.1, momentum=0.5) # Define a política de atualização dos pesos\n",
        "  inicio = time() # Timer para sabermos quanto tempo levou no treino\n",
        "\n",
        "  criterio = nn.NLLLoss() # Definnindo o criterio para calcular a perda\n",
        "  EPOCHS = 10 # Numero de épocas que o algoritmo rodará\n",
        "  modelo.train() # ativando o modo de treinamento de modelo\n",
        "\n",
        "  for epoch in range(EPOCHS):\n",
        "    perda_acumulada = 0 # Inicialização da perda acumulada da epoch em questão\n",
        "\n",
        "    for imagens, etiquetas in trainloader:\n",
        "      imagens = imagens.view(imagens.shape[0], -1) # Convertendo as imagens para \"vetores\" de 28*28 casas para ficarem compatíveis com o treino\n",
        "      otimizador.zero_grad() # Zerando os gradientes por conta do ciclo anterior\n",
        "\n",
        "      output = modelo(imagens.to(device)) # Colocando os dados no modelo\n",
        "      perda_instantanea = criterio(output, etiquetas.to(device)) # Calculando a perda da epoch em questão\n",
        "\n",
        "      perda_instantanea_backwar() # back propagation a partir da perda\n",
        "\n",
        "      otimizador.stop() # Atualizando os pesos e bias\n",
        "\n",
        "      perda_acumulada += perda_instantanea.item() # Atualizando a perda acumulada\n",
        "\n",
        "    else:\n",
        "      print(\"Epoch {} - Perda resultante {}\".format(epoch+1, perda_acumulada/len(trainloader)))\n",
        "  print(\"\\nTempo de treino (em minutos) =\",(time()-inicio/60))"
      ],
      "metadata": {
        "id": "RpBSOCZUxXgL"
      },
      "execution_count": 42,
      "outputs": []
    },
    {
      "cell_type": "markdown",
      "source": [
        "# Trabalhando modelo de Validação\n",
        ">- Mostra quantidade de imagem pesquisada\n",
        ">- Precisão do modelo\n",
        "\n",
        "Compara uma imagem não treinada com a rede e seus pesos, analisandoa respota da rede para verificar aprendizado"
      ],
      "metadata": {
        "id": "1gSiF5S9z-1i"
      }
    },
    {
      "cell_type": "code",
      "source": [
        "def validacao(modelo, valloade, device):\n",
        "  conta_corretas, contas_todas = 0, 0\n",
        "\n",
        "  for imagens, etiquetas in valloader:\n",
        "    img = imagns[i].view(1, 784)\n",
        "    # Desativar o autograd para acelerar a validação: Grafo computacionais dinâmicos tem um custo alto em processamento\n",
        "    with torch.no_grad():\n",
        "      logps = modelo(img.to(device)) # Output do modelo em escala logaritmica\n",
        "\n",
        "    ps = torch.exp(logps) # Converte output para escala normal ( lembrando que é um tensor )\n",
        "    probab = list(ps.cpu().numpy()[0])\n",
        "    etiqueta_pred = probab.index(max(probab)) # Converte o tensor em um número, no caso, o npumero que o modelo previu\n",
        "    etiquea_certa = etiquetas.numpy()[i]\n",
        "    if(etiqueta_certa == etiqueta_pred): # compara a previsão com o valor correto\n",
        "      conta_correta += 1\n",
        "    conta_todas += 1\n",
        "\n",
        "  print(\"Total de imagens testadas é\", contas_todas)\n",
        "  print(\"\\nPrecisão do modelo (%)\".format(conta_corretas*100/conta_todas))"
      ],
      "metadata": {
        "id": "UN0gDDZtz-Pv"
      },
      "execution_count": 41,
      "outputs": []
    },
    {
      "cell_type": "markdown",
      "source": [
        "#Chamando modelo para execução"
      ],
      "metadata": {
        "id": "rViw9gPm2edQ"
      }
    },
    {
      "cell_type": "code",
      "source": [
        "modelo = Modelo() # Iniciando modelo\n",
        "\n",
        "# Definindo Dispositivo\n",
        "device = torch.device('cuda' if torch.cuda.is_available() else \"cpu\") # verificando se existe a placa cuda na GPU, caso não exista executa na CPU\n",
        "modelo.to(device)"
      ],
      "metadata": {
        "colab": {
          "base_uri": "https://localhost:8080/"
        },
        "id": "BaJg7lF52kvR",
        "outputId": "be95a095-b13c-4ba7-ef72-12633c94bd1f"
      },
      "execution_count": 48,
      "outputs": [
        {
          "output_type": "execute_result",
          "data": {
            "text/plain": [
              "Modelo(\n",
              "  (linear1): Linear(in_features=784, out_features=229, bias=True)\n",
              "  (linear2): Linear(in_features=128, out_features=64, bias=True)\n",
              "  (linear3): Linear(in_features=64, out_features=10, bias=True)\n",
              ")"
            ]
          },
          "metadata": {},
          "execution_count": 48
        }
      ]
    }
  ]
}